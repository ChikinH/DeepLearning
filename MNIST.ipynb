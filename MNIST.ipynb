{
 "cells": [
  {
   "cell_type": "markdown",
   "metadata": {},
   "source": [
    "Cousin Antoine\n",
    "MNIST NNs for Ummon HealthTech"
   ]
  },
  {
   "cell_type": "code",
   "execution_count": 24,
   "metadata": {},
   "outputs": [],
   "source": [
    "import torch\n",
    "import torchvision\n",
    "import torchvision.transforms as transforms"
   ]
  },
  {
   "cell_type": "markdown",
   "metadata": {},
   "source": [
    "# Dataset"
   ]
  },
  {
   "cell_type": "code",
   "execution_count": 25,
   "metadata": {},
   "outputs": [],
   "source": [
    "transform = transforms.Compose([transforms.Resize(16),transforms.ToTensor(), transforms.Normalize((0.5,),(0.5,))])"
   ]
  },
  {
   "cell_type": "code",
   "execution_count": 26,
   "metadata": {},
   "outputs": [],
   "source": [
    "mnist_train = torchvision.datasets.MNIST(root='./data', train=True, download=True, transform=transform)"
   ]
  },
  {
   "cell_type": "code",
   "execution_count": 27,
   "metadata": {},
   "outputs": [],
   "source": [
    "mnist_testset = torchvision.datasets.MNIST(root='./data', train=False, download=True, transform=transform)"
   ]
  },
  {
   "cell_type": "code",
   "execution_count": 28,
   "metadata": {},
   "outputs": [
    {
     "data": {
      "text/plain": [
       "60000"
      ]
     },
     "execution_count": 28,
     "metadata": {},
     "output_type": "execute_result"
    }
   ],
   "source": [
    "len(mnist_train)"
   ]
  },
  {
   "cell_type": "code",
   "execution_count": 29,
   "metadata": {},
   "outputs": [
    {
     "data": {
      "text/plain": [
       "10000"
      ]
     },
     "execution_count": 29,
     "metadata": {},
     "output_type": "execute_result"
    }
   ],
   "source": [
    "len(mnist_testset)"
   ]
  },
  {
   "cell_type": "code",
   "execution_count": 30,
   "metadata": {},
   "outputs": [],
   "source": [
    "trainloader = torch.utils.data.DataLoader(mnist_train, shuffle=True, batch_size=4, num_workers=2)"
   ]
  },
  {
   "cell_type": "code",
   "execution_count": 31,
   "metadata": {},
   "outputs": [],
   "source": [
    "testloader = torch.utils.data.DataLoader(mnist_testset, shuffle=False, batch_size=4)"
   ]
  },
  {
   "cell_type": "code",
   "execution_count": 32,
   "metadata": {},
   "outputs": [],
   "source": [
    "classes = ('zero', 'one', 'two', 'three', 'four','five', 'six', 'seven', 'eight', 'nine') "
   ]
  },
  {
   "cell_type": "markdown",
   "metadata": {},
   "source": [
    "Data visualisation:"
   ]
  },
  {
   "cell_type": "code",
   "execution_count": 33,
   "metadata": {},
   "outputs": [
    {
     "data": {
      "image/png": "[encoded data removed]",
      "text/plain": [
       "<Figure size 432x288 with 1 Axes>"
      ]
     },
     "metadata": {
      "needs_background": "light"
     },
     "output_type": "display_data"
    },
    {
     "name": "stdout",
     "output_type": "stream",
     "text": [
      " nine eight  nine   one\n"
     ]
    }
   ],
   "source": [
    "import matplotlib.pyplot as plt\n",
    "import numpy as np\n",
    "\n",
    "def imshow(img):\n",
    "    img = img/2 + 0.5\n",
    "    npimg = img.numpy()\n",
    "    plt.imshow(np.transpose(npimg,(1,2,0)))\n",
    "    plt.show()\n",
    "    \n",
    "dataiter = iter(trainloader)\n",
    "images, labels = dataiter.next()\n",
    "\n",
    "imshow(torchvision.utils.make_grid(images))\n",
    "print(' '.join('%5s' % classes[labels[j]] for j in range(4)))"
   ]
  },
  {
   "cell_type": "markdown",
   "metadata": {},
   "source": [
    "# CNN\n",
    "Based on : https://www.sciencedirect.com/science/article/pii/S1672022921000401 model"
   ]
  },
  {
   "cell_type": "code",
   "execution_count": 34,
   "metadata": {},
   "outputs": [
    {
     "name": "stdout",
     "output_type": "stream",
     "text": [
      "CNN(\n",
      "  (conv1): Conv2d(1, 6, kernel_size=(5, 5), stride=(1, 1))\n",
      "  (conv2): Conv2d(6, 16, kernel_size=(5, 5), stride=(1, 1))\n",
      "  (fc1): Linear(in_features=1024, out_features=10, bias=True)\n",
      ")\n"
     ]
    }
   ],
   "source": [
    "import torch.nn as nn\n",
    "import torch.nn.functional as F\n",
    "\n",
    "class CNN(nn.Module):\n",
    "    def __init__(self):\n",
    "        super(CNN,self).__init__()\n",
    "        \n",
    "        self.conv1 = nn.Conv2d(1,6,5)\n",
    "        self.conv2 = nn.Conv2d(6,16,5)\n",
    "        \n",
    "        self.fc1 = nn.Linear(1024,10)\n",
    "        \n",
    "        \n",
    "    def forward(self, x):\n",
    "        x = F.relu(self.conv1(x))\n",
    "        x = F.relu(self.conv2(x))\n",
    "        x = x.view(-1, self.num_flat_features(x)) \n",
    "        x = self.fc1(x)\n",
    "        return x\n",
    "    \n",
    "    def num_flat_features(self, x):\n",
    "        size = x.size()[1:]\n",
    "        num_features = 1\n",
    "        for s in size:\n",
    "            num_features *= s\n",
    "        return num_features \n",
    "\n",
    "cnn = CNN()\n",
    "print(cnn)"
   ]
  },
  {
   "cell_type": "code",
   "execution_count": 35,
   "metadata": {},
   "outputs": [],
   "source": [
    "import torch.optim as optim\n",
    "criterion = nn.CrossEntropyLoss()\n",
    "optimizer = optim.SGD(cnn.parameters(), lr=0.001, momentum=0.9)"
   ]
  },
  {
   "cell_type": "code",
   "execution_count": 36,
   "metadata": {},
   "outputs": [],
   "source": [
    "def train(epochs = 10):\n",
    "    for epoch in range(epochs):\n",
    "        running_loss = 0.0\n",
    "        for _, data in enumerate(trainloader,0):\n",
    "            inputs, labels = data\n",
    "            \n",
    "            optimizer.zero_grad()\n",
    "            outputs = cnn(inputs)\n",
    "            loss = criterion(outputs,labels)\n",
    "            loss.backward()\n",
    "            optimizer.step()\n",
    "            \n",
    "            running_loss += loss.item()\n",
    "        print('{} loss: {}'.format(epoch+1, running_loss/60000))\n",
    "    print('Finished Training')"
   ]
  },
  {
   "cell_type": "code",
   "execution_count": 37,
   "metadata": {},
   "outputs": [
    {
     "name": "stdout",
     "output_type": "stream",
     "text": [
      "1 loss: 0.050730459113858324\n",
      "2 loss: 0.019097817536019527\n",
      "3 loss: 0.01447750618369035\n",
      "4 loss: 0.011862330967632876\n",
      "5 loss: 0.010005509019240919\n",
      "6 loss: 0.009017280534155415\n",
      "7 loss: 0.007799739181653665\n",
      "8 loss: 0.0071013980236754775\n",
      "9 loss: 0.0061440616707758204\n",
      "10 loss: 0.005449425633417661\n",
      "Finished Training\n"
     ]
    }
   ],
   "source": [
    "train()"
   ]
  },
  {
   "cell_type": "code",
   "execution_count": 38,
   "metadata": {},
   "outputs": [],
   "source": [
    "torch.save(cnn.state_dict(), './cnn.pth')"
   ]
  },
  {
   "cell_type": "markdown",
   "metadata": {},
   "source": [
    "## Test"
   ]
  },
  {
   "cell_type": "code",
   "execution_count": 39,
   "metadata": {},
   "outputs": [
    {
     "data": {
      "image/png": "[encoded data removed]",
      "text/plain": [
       "<Figure size 432x288 with 1 Axes>"
      ]
     },
     "metadata": {
      "needs_background": "light"
     },
     "output_type": "display_data"
    },
    {
     "name": "stdout",
     "output_type": "stream",
     "text": [
      "seven   two   one  zero\n"
     ]
    }
   ],
   "source": [
    "dataiter = iter(testloader)\n",
    "images, labels = dataiter.next()\n",
    "\n",
    "imshow(torchvision.utils.make_grid(images))\n",
    "\n",
    "print(' '.join('%5s' % classes[labels[j]] for j in range(4)))"
   ]
  },
  {
   "cell_type": "code",
   "execution_count": 40,
   "metadata": {},
   "outputs": [
    {
     "name": "stdout",
     "output_type": "stream",
     "text": [
      "Predicted:  seven   two   one  zero\n"
     ]
    }
   ],
   "source": [
    "outputs = cnn(images)\n",
    "_,predicted = torch.max(outputs,1)\n",
    "print('Predicted: ', ' '.join('%5s' % classes[predicted[j]] for j in range(4)))"
   ]
  },
  {
   "cell_type": "code",
   "execution_count": 41,
   "metadata": {
    "scrolled": true
   },
   "outputs": [
    {
     "name": "stdout",
     "output_type": "stream",
     "text": [
      "Accuracy on test set : 98.69%\n"
     ]
    }
   ],
   "source": [
    "correct = 0\n",
    "total = 0\n",
    "for data in testloader:\n",
    "    images, labels = data\n",
    "    outputs =  cnn(images)\n",
    "    _, predicted = torch.max(outputs.data,1)\n",
    "    total += labels.size(0)\n",
    "    correct += (predicted==labels).sum().item()\n",
    "    \n",
    "print('Accuracy on test set : {}%'.format(100*correct/total))"
   ]
  },
  {
   "cell_type": "markdown",
   "metadata": {},
   "source": [
    "# CAE"
   ]
  },
  {
   "cell_type": "code",
   "execution_count": 42,
   "metadata": {
    "scrolled": true
   },
   "outputs": [
    {
     "name": "stdout",
     "output_type": "stream",
     "text": [
      "CAE(\n",
      "  (encode): Sequential(\n",
      "    (0): Conv2d(1, 16, kernel_size=(3, 3), stride=(3, 3), padding=(1, 1))\n",
      "    (1): ReLU(inplace=True)\n",
      "    (2): MaxPool2d(kernel_size=2, stride=2, padding=0, dilation=1, ceil_mode=False)\n",
      "    (3): Conv2d(16, 8, kernel_size=(3, 3), stride=(2, 2), padding=(1, 1))\n",
      "    (4): ReLU(inplace=True)\n",
      "    (5): MaxPool2d(kernel_size=2, stride=1, padding=0, dilation=1, ceil_mode=False)\n",
      "  )\n",
      "  (decode): Sequential(\n",
      "    (0): ConvTranspose2d(8, 16, kernel_size=(3, 3), stride=(2, 2))\n",
      "    (1): ReLU(inplace=True)\n",
      "    (2): ConvTranspose2d(16, 8, kernel_size=(5, 5), stride=(3, 3), padding=(1, 1))\n",
      "    (3): ReLU(inplace=True)\n",
      "    (4): ConvTranspose2d(8, 1, kernel_size=(2, 2), stride=(2, 2), padding=(1, 1))\n",
      "    (5): Tanh()\n",
      "  )\n",
      ")\n"
     ]
    }
   ],
   "source": [
    "class CAE(nn.Module):\n",
    "    def __init__(self):\n",
    "        super(CAE,self).__init__()\n",
    "        \n",
    "        self.encode= nn.Sequential(\n",
    "            nn.Conv2d(1,16,3,stride=3,padding=1),\n",
    "            nn.ReLU(True),\n",
    "            nn.MaxPool2d(2,stride=2),\n",
    "            nn.Conv2d(16,8,3,stride=2,padding=1),\n",
    "            nn.ReLU(True),\n",
    "            nn.MaxPool2d(2,stride=1))\n",
    "        \n",
    "        self.decode = nn.Sequential(\n",
    "            nn.ConvTranspose2d(8,16,3,stride=2),\n",
    "            nn.ReLU(True),\n",
    "            nn.ConvTranspose2d(16,8,5,stride=3,padding=1),\n",
    "            nn.ReLU(True),\n",
    "            nn.ConvTranspose2d(8,1,2,stride=2,padding=1),\n",
    "            nn.Tanh())\n",
    "        \n",
    "    def forward(self, x):\n",
    "        x = self.encode(x)\n",
    "        x = self.decode(x)\n",
    "        return x\n",
    "    \n",
    "cae = CAE().cuda()\n",
    "print(cae)"
   ]
  },
  {
   "cell_type": "code",
   "execution_count": 43,
   "metadata": {},
   "outputs": [],
   "source": [
    "criterion = nn.MSELoss()\n",
    "optimizer = torch.optim.Adam(cae.parameters(),lr=0.001)"
   ]
  },
  {
   "cell_type": "code",
   "execution_count": 44,
   "metadata": {},
   "outputs": [],
   "source": [
    "device = 'cpu'\n",
    "cae.to(device)\n",
    "\n",
    "def train2(epochs=100):\n",
    "    for epoch in range(epochs):\n",
    "        train_loss = 0.0\n",
    "        for data in trainloader:\n",
    "            img, _ = data\n",
    "            \n",
    "            optimizer.zero_grad()\n",
    "            \n",
    "            output = cae(img)\n",
    "            loss = criterion(output,img)\n",
    "            \n",
    "            \n",
    "            loss.backward()\n",
    "            optimizer.step()\n",
    "            train_loss += loss.item()*img.size(0)\n",
    "        train_loss = train_loss/len(trainloader)\n",
    "        print('{} loss : {}'.format(epoch+1, train_loss))\n",
    "    print('Finished Training')"
   ]
  },
  {
   "cell_type": "code",
   "execution_count": 45,
   "metadata": {},
   "outputs": [
    {
     "name": "stdout",
     "output_type": "stream",
     "text": [
      "1 loss : 0.39195643154978754\n",
      "2 loss : 0.28074889346063137\n",
      "3 loss : 0.2633247925490141\n",
      "4 loss : 0.25438771029313406\n",
      "5 loss : 0.24811567648748556\n",
      "6 loss : 0.24341768341163794\n",
      "7 loss : 0.2397207737925152\n",
      "8 loss : 0.23668601657971738\n",
      "9 loss : 0.23429028966700038\n",
      "10 loss : 0.23225521601165333\n",
      "11 loss : 0.23067255604316791\n",
      "12 loss : 0.2294494609725972\n",
      "13 loss : 0.2283729208442072\n",
      "14 loss : 0.22738385990758736\n",
      "15 loss : 0.22665086568146944\n",
      "16 loss : 0.22595987191423775\n",
      "17 loss : 0.22537018016998966\n",
      "18 loss : 0.22472144077296058\n",
      "19 loss : 0.22416907138278086\n",
      "20 loss : 0.22351624264692266\n",
      "21 loss : 0.2231911582238972\n",
      "22 loss : 0.22267726325293383\n",
      "23 loss : 0.22234727513243754\n",
      "24 loss : 0.22181474841212234\n",
      "25 loss : 0.2214478208998839\n",
      "26 loss : 0.22121961458548903\n",
      "27 loss : 0.220872420612971\n",
      "28 loss : 0.22069042395502328\n",
      "29 loss : 0.22047474496662617\n",
      "30 loss : 0.22000564229687056\n",
      "31 loss : 0.219778375629584\n",
      "32 loss : 0.21956136793345213\n",
      "33 loss : 0.21931064546083412\n",
      "34 loss : 0.2190134742423892\n",
      "35 loss : 0.21894047251145046\n",
      "36 loss : 0.2187342813849449\n",
      "37 loss : 0.21851209646413725\n",
      "38 loss : 0.21847845019350448\n",
      "39 loss : 0.21828919221113124\n",
      "40 loss : 0.2179778686642647\n",
      "41 loss : 0.2180625190799435\n",
      "42 loss : 0.21778255290513238\n",
      "43 loss : 0.21765502177253365\n",
      "44 loss : 0.21745082762688397\n",
      "45 loss : 0.21739213877071936\n",
      "46 loss : 0.21722136510436735\n",
      "47 loss : 0.21711552348534266\n",
      "48 loss : 0.21695074951524534\n",
      "49 loss : 0.21686184273759523\n",
      "50 loss : 0.21686579918265342\n",
      "51 loss : 0.21677757776503762\n",
      "52 loss : 0.2165757093824446\n",
      "53 loss : 0.21653745627577106\n",
      "54 loss : 0.21646458074351152\n",
      "55 loss : 0.2162865157517294\n",
      "56 loss : 0.21609186206658682\n",
      "57 loss : 0.21614566567192475\n",
      "58 loss : 0.21597212561815976\n",
      "59 loss : 0.21591883953412375\n",
      "60 loss : 0.21592603386131426\n",
      "61 loss : 0.21575824372296531\n",
      "62 loss : 0.21568816941877206\n",
      "63 loss : 0.21563407643636068\n",
      "64 loss : 0.21550276947319508\n",
      "65 loss : 0.2153828026312093\n",
      "66 loss : 0.21526190282007057\n",
      "67 loss : 0.21522356436500947\n",
      "68 loss : 0.21500079301198324\n",
      "69 loss : 0.21507126455331843\n",
      "70 loss : 0.21500546217833957\n",
      "71 loss : 0.21494539525484047\n",
      "72 loss : 0.21484221979131302\n",
      "73 loss : 0.21473647038986285\n",
      "74 loss : 0.2146961785554886\n",
      "75 loss : 0.21465596740320325\n",
      "76 loss : 0.2146940722040832\n",
      "77 loss : 0.2145690455660224\n",
      "78 loss : 0.21446890363022686\n",
      "79 loss : 0.21435826737533012\n",
      "80 loss : 0.21442894089594483\n",
      "81 loss : 0.21427885954951248\n",
      "82 loss : 0.21413457424963514\n",
      "83 loss : 0.21420646062990029\n",
      "84 loss : 0.21415473120386402\n",
      "85 loss : 0.21417522247533002\n",
      "86 loss : 0.21403426296090086\n",
      "87 loss : 0.21399496439869206\n",
      "88 loss : 0.21394410733754435\n",
      "89 loss : 0.21384402270292244\n",
      "90 loss : 0.21384788761933646\n",
      "91 loss : 0.21371755173007648\n",
      "92 loss : 0.21381870107278228\n",
      "93 loss : 0.21373378840858737\n",
      "94 loss : 0.21363586414108673\n",
      "95 loss : 0.21372384067972502\n",
      "96 loss : 0.21355074490035575\n",
      "97 loss : 0.21352599815477927\n",
      "98 loss : 0.213488835965842\n",
      "99 loss : 0.21348191165104508\n",
      "100 loss : 0.21354038542906442\n",
      "Finished Training\n"
     ]
    }
   ],
   "source": [
    "train2()"
   ]
  },
  {
   "cell_type": "code",
   "execution_count": 46,
   "metadata": {},
   "outputs": [],
   "source": [
    "torch.save(cnn.state_dict(), './cae.pth')"
   ]
  },
  {
   "cell_type": "markdown",
   "metadata": {},
   "source": [
    "## Test"
   ]
  },
  {
   "cell_type": "code",
   "execution_count": 66,
   "metadata": {},
   "outputs": [
    {
     "data": {
      "image/png": "[encoded data removed]",
      "text/plain": [
       "<Figure size 432x288 with 1 Axes>"
      ]
     },
     "metadata": {
      "needs_background": "light"
     },
     "output_type": "display_data"
    }
   ],
   "source": [
    "dataiter = iter(testloader)\n",
    "images, labels = dataiter.next()\n",
    "\n",
    "imshow(torchvision.utils.make_grid(images))"
   ]
  },
  {
   "cell_type": "code",
   "execution_count": 67,
   "metadata": {},
   "outputs": [
    {
     "data": {
      "image/png": "[encoded data removed]",
      "text/plain": [
       "<Figure size 432x288 with 1 Axes>"
      ]
     },
     "metadata": {
      "needs_background": "light"
     },
     "output_type": "display_data"
    }
   ],
   "source": [
    "outputs = cae(images)\n",
    "imshow(torchvision.utils.make_grid(outputs))"
   ]
  },
  {
   "cell_type": "markdown",
   "metadata": {},
   "source": [
    "## Ajout de bruit"
   ]
  },
  {
   "cell_type": "code",
   "execution_count": 87,
   "metadata": {},
   "outputs": [
    {
     "data": {
      "image/png": "[encoded data removed]",
      "text/plain": [
       "<Figure size 432x288 with 1 Axes>"
      ]
     },
     "metadata": {
      "needs_background": "light"
     },
     "output_type": "display_data"
    }
   ],
   "source": [
    "inter_images = cae.encode(images)\n",
    "noise = torch.randn_like(inter_images)*0.5\n",
    "outputs = cae.decode(inter_images+noise)\n",
    "imshow(torchvision.utils.make_grid(outputs))"
   ]
  },
  {
   "cell_type": "code",
   "execution_count": 89,
   "metadata": {},
   "outputs": [],
   "source": [
    "def encode_noise_decode(images, noise=0.1):\n",
    "    inter_images = cae.encode(images)\n",
    "    noise = torch.randn_like(inter_images)*noise\n",
    "    outputs = cae.decode(inter_images+noise)\n",
    "    return outputs"
   ]
  },
  {
   "cell_type": "code",
   "execution_count": 91,
   "metadata": {},
   "outputs": [
    {
     "data": {
      "image/png": "[encoded data removed]",
      "text/plain": [
       "<Figure size 432x288 with 1 Axes>"
      ]
     },
     "metadata": {
      "needs_background": "light"
     },
     "output_type": "display_data"
    },
    {
     "data": {
      "image/png": "[encoded data removed]",
      "text/plain": [
       "<Figure size 432x288 with 1 Axes>"
      ]
     },
     "metadata": {
      "needs_background": "light"
     },
     "output_type": "display_data"
    }
   ],
   "source": [
    "criterion = nn.MSELoss()\n",
    "\n",
    "max_loss = 0\n",
    "\n",
    "for data in testloader:\n",
    "    images,_ = data\n",
    "    outputs = encode_noise_decode(images)\n",
    "    loss = criterion(outputs, images)\n",
    "    if max_loss < loss.item():\n",
    "        saved_images = [outputs,images]\n",
    "        max_loss = loss.item()\n",
    "        \n",
    "imshow(torchvision.utils.make_grid(saved_images[1]))\n",
    "imshow(torchvision.utils.make_grid(saved_images[0]))"
   ]
  },
  {
   "cell_type": "markdown",
   "metadata": {},
   "source": [
    "Batch avec la plus grande variation"
   ]
  },
  {
   "cell_type": "code",
   "execution_count": 93,
   "metadata": {},
   "outputs": [
    {
     "name": "stdout",
     "output_type": "stream",
     "text": [
      "Predicted:   nine  nine three  four\n",
      "Predicted:   zero  zero three  four\n"
     ]
    }
   ],
   "source": [
    "outputs = cnn(saved_images[1])\n",
    "_,predicted = torch.max(outputs,1)\n",
    "print('Predicted: ', ' '.join('%5s' % classes[predicted[j]] for j in range(4)))\n",
    "\n",
    "outputs = cnn(saved_images[0])\n",
    "_,predicted = torch.max(outputs,1)\n",
    "print('Predicted: ', ' '.join('%5s' % classes[predicted[j]] for j in range(4)))"
   ]
  },
  {
   "cell_type": "markdown",
   "metadata": {},
   "source": [
    "Les images correspondant a un 9 de base se retrouvent transformées en 0.\n",
    "Avec du bruit avant le décodage, celui-ci peut se retrouver faussé dans le cas de formes proches."
   ]
  }
 ],
 "metadata": {
  "kernelspec": {
   "display_name": "Python 3",
   "language": "python",
   "name": "python3"
  },
  "language_info": {
   "codemirror_mode": {
    "name": "ipython",
    "version": 3
   },
   "file_extension": ".py",
   "mimetype": "text/x-python",
   "name": "python",
   "nbconvert_exporter": "python",
   "pygments_lexer": "ipython3",
   "version": "3.8.5"
  }
 },
 "nbformat": 4,
 "nbformat_minor": 4
}
